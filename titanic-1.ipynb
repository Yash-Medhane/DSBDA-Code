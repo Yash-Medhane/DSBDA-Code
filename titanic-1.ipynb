{
 "cells": [
  {
   "cell_type": "code",
   "execution_count": null,
   "id": "057566c5-07cc-4a4b-8c4e-95117ce5ba9c",
   "metadata": {},
   "outputs": [],
   "source": [
    "import pandas as pd\n",
    "import numpy as np\n",
    "\n",
    "# Load dataset\n",
    "df = pd.read_csv(\"Titanic-Dataset.csv\")\n",
    "print(\"Original Data:\\n\", df.head())"
   ]
  },
  {
   "cell_type": "code",
   "execution_count": null,
   "id": "dc983d9d-6f67-4eb8-a561-e7411253029b",
   "metadata": {},
   "outputs": [],
   "source": [
    "# a. Handle missing Age and Cabin values\n",
    "df['Age'].fillna(df['Age'].median(), inplace=True)  # Median imputation for Age\n",
    "df['Cabin'].fillna('Unknown', inplace=True)         # Fill Cabin with 'Unknown'"
   ]
  },
  {
   "cell_type": "code",
   "execution_count": null,
   "id": "264f3b21-01f2-4b39-9e05-c52babb53c5a",
   "metadata": {},
   "outputs": [],
   "source": [
    "print(\"\\nAfter Handling Missing Age and Cabin:\\n\", df[['Age', 'Cabin']].head())\n",
    "\n",
    "# b. Convert Sex and Embarked to numeric form\n",
    "df['Sex'] = df['Sex'].map({'male': 0, 'female': 1})\n",
    "df['Embarked'].fillna(df['Embarked'].mode()[0], inplace=True)  # Fill missing with mode\n",
    "df = pd.get_dummies(df, columns=['Embarked'], drop_first=True)\n",
    "\n",
    "print(\"\\nAfter Encoding Sex and Embarked:\\n\", df[['Sex'] + [col for col in df.columns if 'Embarked' in col]].head())\n"
   ]
  },
  {
   "cell_type": "code",
   "execution_count": null,
   "id": "19cb0716-b9d1-4307-9788-fb0fca8b8f91",
   "metadata": {},
   "outputs": [],
   "source": [
    "# c. Create new feature FamilySize\n",
    "df['FamilySize'] = df['SibSp'] + df['Parch']\n",
    "print(\"\\nAfter Creating FamilySize:\\n\", df[['SibSp', 'Parch', 'FamilySize']].head())\n"
   ]
  },
  {
   "cell_type": "code",
   "execution_count": null,
   "id": "7918a2f9-ff92-4c55-aba9-f698caa85f47",
   "metadata": {},
   "outputs": [],
   "source": [
    "\n",
    "# d. Bin Fare into categories\n",
    "fare_bins = [0, 30, 70, np.inf]\n",
    "fare_labels = ['Low', 'Medium', 'High']\n",
    "df['FareCategory'] = pd.cut(df['Fare'], bins=fare_bins, labels=fare_labels)\n",
    "\n",
    "print(\"\\nAfter Binning Fare:\\n\", df[['Fare', 'FareCategory']].head())"
   ]
  }
 ],
 "metadata": {
  "kernelspec": {
   "display_name": "Python 3 (ipykernel)",
   "language": "python",
   "name": "python3"
  },
  "language_info": {
   "codemirror_mode": {
    "name": "ipython",
    "version": 3
   },
   "file_extension": ".py",
   "mimetype": "text/x-python",
   "name": "python",
   "nbconvert_exporter": "python",
   "pygments_lexer": "ipython3",
   "version": "3.13.2"
  }
 },
 "nbformat": 4,
 "nbformat_minor": 5
}
