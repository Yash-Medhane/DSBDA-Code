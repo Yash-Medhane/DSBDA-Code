{
 "cells": [
  {
   "cell_type": "code",
   "execution_count": 1,
   "id": "6e5267ba-4e42-493d-a274-c4c4bd82fc65",
   "metadata": {},
   "outputs": [
    {
     "data": {
      "text/html": [
       "<div>\n",
       "<style scoped>\n",
       "    .dataframe tbody tr th:only-of-type {\n",
       "        vertical-align: middle;\n",
       "    }\n",
       "\n",
       "    .dataframe tbody tr th {\n",
       "        vertical-align: top;\n",
       "    }\n",
       "\n",
       "    .dataframe thead th {\n",
       "        text-align: right;\n",
       "    }\n",
       "</style>\n",
       "<table border=\"1\" class=\"dataframe\">\n",
       "  <thead>\n",
       "    <tr style=\"text-align: right;\">\n",
       "      <th></th>\n",
       "      <th>Unnamed: 0</th>\n",
       "      <th>Price</th>\n",
       "      <th>Age</th>\n",
       "      <th>KM</th>\n",
       "      <th>FuelType</th>\n",
       "      <th>HP</th>\n",
       "      <th>MetColor</th>\n",
       "      <th>Automatic</th>\n",
       "      <th>CC</th>\n",
       "      <th>Doors</th>\n",
       "      <th>Weight</th>\n",
       "    </tr>\n",
       "  </thead>\n",
       "  <tbody>\n",
       "    <tr>\n",
       "      <th>0</th>\n",
       "      <td>0</td>\n",
       "      <td>13500</td>\n",
       "      <td>23.0</td>\n",
       "      <td>46986</td>\n",
       "      <td>Diesel</td>\n",
       "      <td>90</td>\n",
       "      <td>1.0</td>\n",
       "      <td>0</td>\n",
       "      <td>2000</td>\n",
       "      <td>three</td>\n",
       "      <td>1165</td>\n",
       "    </tr>\n",
       "    <tr>\n",
       "      <th>1</th>\n",
       "      <td>1</td>\n",
       "      <td>13750</td>\n",
       "      <td>23.0</td>\n",
       "      <td>72937</td>\n",
       "      <td>Diesel</td>\n",
       "      <td>90</td>\n",
       "      <td>1.0</td>\n",
       "      <td>0</td>\n",
       "      <td>2000</td>\n",
       "      <td>3</td>\n",
       "      <td>1165</td>\n",
       "    </tr>\n",
       "    <tr>\n",
       "      <th>2</th>\n",
       "      <td>2</td>\n",
       "      <td>13950</td>\n",
       "      <td>24.0</td>\n",
       "      <td>41711</td>\n",
       "      <td>Diesel</td>\n",
       "      <td>90</td>\n",
       "      <td>NaN</td>\n",
       "      <td>0</td>\n",
       "      <td>2000</td>\n",
       "      <td>3</td>\n",
       "      <td>1165</td>\n",
       "    </tr>\n",
       "    <tr>\n",
       "      <th>3</th>\n",
       "      <td>3</td>\n",
       "      <td>14950</td>\n",
       "      <td>26.0</td>\n",
       "      <td>48000</td>\n",
       "      <td>Diesel</td>\n",
       "      <td>90</td>\n",
       "      <td>0.0</td>\n",
       "      <td>0</td>\n",
       "      <td>2000</td>\n",
       "      <td>3</td>\n",
       "      <td>1165</td>\n",
       "    </tr>\n",
       "    <tr>\n",
       "      <th>4</th>\n",
       "      <td>4</td>\n",
       "      <td>13750</td>\n",
       "      <td>30.0</td>\n",
       "      <td>38500</td>\n",
       "      <td>Diesel</td>\n",
       "      <td>90</td>\n",
       "      <td>0.0</td>\n",
       "      <td>0</td>\n",
       "      <td>2000</td>\n",
       "      <td>3</td>\n",
       "      <td>1170</td>\n",
       "    </tr>\n",
       "  </tbody>\n",
       "</table>\n",
       "</div>"
      ],
      "text/plain": [
       "   Unnamed: 0  Price   Age     KM FuelType  HP  MetColor  Automatic    CC  \\\n",
       "0           0  13500  23.0  46986   Diesel  90       1.0          0  2000   \n",
       "1           1  13750  23.0  72937   Diesel  90       1.0          0  2000   \n",
       "2           2  13950  24.0  41711   Diesel  90       NaN          0  2000   \n",
       "3           3  14950  26.0  48000   Diesel  90       0.0          0  2000   \n",
       "4           4  13750  30.0  38500   Diesel  90       0.0          0  2000   \n",
       "\n",
       "   Doors  Weight  \n",
       "0  three    1165  \n",
       "1      3    1165  \n",
       "2      3    1165  \n",
       "3      3    1165  \n",
       "4      3    1170  "
      ]
     },
     "execution_count": 1,
     "metadata": {},
     "output_type": "execute_result"
    }
   ],
   "source": [
    "import pandas as pd\n",
    "from scipy import stats\n",
    "\n",
    "# Read the dataset\n",
    "df = pd.read_csv(\"data/Toyota.csv\")\n",
    "df.head(5)"
   ]
  },
  {
   "cell_type": "code",
   "execution_count": 2,
   "id": "5bff3d92-2321-4a69-8002-27deea2da33b",
   "metadata": {},
   "outputs": [],
   "source": [
    "# a. Add a new column 'Revised' to the dataset specifying 5% increase in old Price\n",
    "df['Revised'] = df['Price'] * 1.05  # Increase Price by 5%\n"
   ]
  },
  {
   "cell_type": "code",
   "execution_count": 3,
   "id": "8285c115-4dbe-4f43-a38a-328eabcc278c",
   "metadata": {},
   "outputs": [],
   "source": [
    "# b. Create subset of cars’ data having Price greater than 15000 and Age less than 8\n",
    "subset = df[(df['Price'] > 15000) & (df['Age'] < 8)]\n"
   ]
  },
  {
   "cell_type": "code",
   "execution_count": 4,
   "id": "5aab81bf-bbd5-4cbe-bd09-fd78c7ac4e70",
   "metadata": {},
   "outputs": [],
   "source": [
    "# c. Sort observations in descending order of Revised Price\n",
    "sorted_df = df.sort_values(by='Revised', ascending=False)\n"
   ]
  },
  {
   "cell_type": "code",
   "execution_count": 5,
   "id": "6650692e-2ff9-46f9-98fe-f6fa26a57fc9",
   "metadata": {},
   "outputs": [],
   "source": [
    "# d. Apply ZScore_normalization on HP column\n",
    "# Convert HP column to numeric (if any non-numeric values exist)\n",
    "df['HP'] = pd.to_numeric(df['HP'], errors='coerce')\n"
   ]
  },
  {
   "cell_type": "code",
   "execution_count": 6,
   "id": "9d541809-41e3-4d96-9807-be33f2ded7d6",
   "metadata": {},
   "outputs": [
    {
     "name": "stderr",
     "output_type": "stream",
     "text": [
      "C:\\Users\\Asus\\AppData\\Local\\Temp\\ipykernel_5192\\1572731037.py:2: FutureWarning: A value is trying to be set on a copy of a DataFrame or Series through chained assignment using an inplace method.\n",
      "The behavior will change in pandas 3.0. This inplace method will never work because the intermediate object on which we are setting values always behaves as a copy.\n",
      "\n",
      "For example, when doing 'df[col].method(value, inplace=True)', try using 'df.method({col: value}, inplace=True)' or df[col] = df[col].method(value) instead, to perform the operation inplace on the original object.\n",
      "\n",
      "\n",
      "  df['HP'].fillna(df['HP'].mean(), inplace=True)\n"
     ]
    }
   ],
   "source": [
    "# Handle missing values by filling with mean of the column (if any NaNs exist)\n",
    "df['HP'].fillna(df['HP'].mean(), inplace=True)\n",
    "\n",
    "# Z-Score Normalization (standardization)\n",
    "df['HP_zscore'] = stats.zscore(df['HP'])"
   ]
  },
  {
   "cell_type": "code",
   "execution_count": 7,
   "id": "98d69bb0-91fc-4734-a0ef-a419664b493e",
   "metadata": {},
   "outputs": [
    {
     "data": {
      "text/plain": [
       "(   Unnamed: 0  Price   Age     KM FuelType    HP  MetColor  Automatic    CC  \\\n",
       " 0           0  13500  23.0  46986   Diesel  90.0       1.0          0  2000   \n",
       " 1           1  13750  23.0  72937   Diesel  90.0       1.0          0  2000   \n",
       " 2           2  13950  24.0  41711   Diesel  90.0       NaN          0  2000   \n",
       " 3           3  14950  26.0  48000   Diesel  90.0       0.0          0  2000   \n",
       " 4           4  13750  30.0  38500   Diesel  90.0       0.0          0  2000   \n",
       " \n",
       "    Doors  Weight  Revised  HP_zscore  \n",
       " 0  three    1165  14175.0  -0.779131  \n",
       " 1      3    1165  14437.5  -0.779131  \n",
       " 2      3    1165  14647.5  -0.779131  \n",
       " 3      3    1165  15697.5  -0.779131  \n",
       " 4      3    1170  14437.5  -0.779131  ,\n",
       "      Unnamed: 0  Price  Age     KM FuelType   HP  MetColor  Automatic    CC  \\\n",
       " 110         110  31000  4.0   4000   Diesel  116       1.0          0  2000   \n",
       " 111         111  31275  4.0   1500   Diesel  116       1.0          0  2000   \n",
       " 114         114  22950  7.0  10000   Diesel  116       1.0          0  2000   \n",
       " 177         177  19950  7.0   6250   Petrol  110       1.0          0  1600   \n",
       " 179         179  22500  6.0   3000   Petrol  110       0.0          0  1600   \n",
       " \n",
       "     Doors  Weight   Revised  \n",
       " 110     5    1480  32550.00  \n",
       " 111     5    1480  32838.75  \n",
       " 114     5    1270  24097.50  \n",
       " 177     5    1115  20947.50  \n",
       " 179     5    1130  23625.00  ,\n",
       "      Unnamed: 0  Price  Age     KM FuelType   HP  MetColor  Automatic    CC  \\\n",
       " 109         109  32500  NaN      1      NaN  116       0.0          0  2000   \n",
       " 111         111  31275  4.0   1500   Diesel  116       1.0          0  2000   \n",
       " 110         110  31000  4.0   4000   Diesel  116       1.0          0  2000   \n",
       " 115         115  24990  8.0   6000   Diesel   90       1.0          0  2000   \n",
       " 113         113  24950  8.0  13253   Diesel  116       1.0          0  2000   \n",
       " \n",
       "     Doors  Weight   Revised  \n",
       " 109     5    1480  34125.00  \n",
       " 111     5    1480  32838.75  \n",
       " 110     5    1480  32550.00  \n",
       " 115     5    1280  26239.50  \n",
       " 113     5    1320  26197.50  ,\n",
       "      HP  HP_zscore\n",
       " 0  90.0  -0.779131\n",
       " 1  90.0  -0.779131\n",
       " 2  90.0  -0.779131\n",
       " 3  90.0  -0.779131\n",
       " 4  90.0  -0.779131)"
      ]
     },
     "execution_count": 7,
     "metadata": {},
     "output_type": "execute_result"
    }
   ],
   "source": [
    "# Display the results after each operation\n",
    "df.head(), subset.head(), sorted_df.head(), df[['HP', 'HP_zscore']].head()"
   ]
  },
  {
   "cell_type": "code",
   "execution_count": null,
   "id": "0d076331-e333-43ab-92bc-96ff7dbba2d9",
   "metadata": {},
   "outputs": [],
   "source": []
  }
 ],
 "metadata": {
  "kernelspec": {
   "display_name": "Python 3 (ipykernel)",
   "language": "python",
   "name": "python3"
  },
  "language_info": {
   "codemirror_mode": {
    "name": "ipython",
    "version": 3
   },
   "file_extension": ".py",
   "mimetype": "text/x-python",
   "name": "python",
   "nbconvert_exporter": "python",
   "pygments_lexer": "ipython3",
   "version": "3.13.2"
  }
 },
 "nbformat": 4,
 "nbformat_minor": 5
}
