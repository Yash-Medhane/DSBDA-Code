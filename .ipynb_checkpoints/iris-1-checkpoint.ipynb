{
 "cells": [
  {
   "cell_type": "code",
   "execution_count": 18,
   "id": "79553ec0-edb4-4678-8fcb-4c3d831f5a67",
   "metadata": {},
   "outputs": [
    {
     "data": {
      "text/html": [
       "<div>\n",
       "<style scoped>\n",
       "    .dataframe tbody tr th:only-of-type {\n",
       "        vertical-align: middle;\n",
       "    }\n",
       "\n",
       "    .dataframe tbody tr th {\n",
       "        vertical-align: top;\n",
       "    }\n",
       "\n",
       "    .dataframe thead th {\n",
       "        text-align: right;\n",
       "    }\n",
       "</style>\n",
       "<table border=\"1\" class=\"dataframe\">\n",
       "  <thead>\n",
       "    <tr style=\"text-align: right;\">\n",
       "      <th></th>\n",
       "      <th>sepal_length</th>\n",
       "      <th>sepal_width</th>\n",
       "      <th>petal_length</th>\n",
       "      <th>petal_width</th>\n",
       "      <th>species</th>\n",
       "      <th>id</th>\n",
       "    </tr>\n",
       "  </thead>\n",
       "  <tbody>\n",
       "    <tr>\n",
       "      <th>0</th>\n",
       "      <td>5.1</td>\n",
       "      <td>3.5</td>\n",
       "      <td>1.4</td>\n",
       "      <td>0.2</td>\n",
       "      <td>setosa</td>\n",
       "      <td>0</td>\n",
       "    </tr>\n",
       "    <tr>\n",
       "      <th>1</th>\n",
       "      <td>4.9</td>\n",
       "      <td>3.0</td>\n",
       "      <td>1.4</td>\n",
       "      <td>0.2</td>\n",
       "      <td>setosa</td>\n",
       "      <td>1</td>\n",
       "    </tr>\n",
       "    <tr>\n",
       "      <th>2</th>\n",
       "      <td>4.7</td>\n",
       "      <td>3.2</td>\n",
       "      <td>1.3</td>\n",
       "      <td>0.2</td>\n",
       "      <td>setosa</td>\n",
       "      <td>2</td>\n",
       "    </tr>\n",
       "    <tr>\n",
       "      <th>3</th>\n",
       "      <td>4.6</td>\n",
       "      <td>3.1</td>\n",
       "      <td>1.5</td>\n",
       "      <td>0.2</td>\n",
       "      <td>setosa</td>\n",
       "      <td>3</td>\n",
       "    </tr>\n",
       "    <tr>\n",
       "      <th>4</th>\n",
       "      <td>5.0</td>\n",
       "      <td>3.6</td>\n",
       "      <td>1.4</td>\n",
       "      <td>0.2</td>\n",
       "      <td>setosa</td>\n",
       "      <td>4</td>\n",
       "    </tr>\n",
       "  </tbody>\n",
       "</table>\n",
       "</div>"
      ],
      "text/plain": [
       "   sepal_length  sepal_width  petal_length  petal_width species  id\n",
       "0           5.1          3.5           1.4          0.2  setosa   0\n",
       "1           4.9          3.0           1.4          0.2  setosa   1\n",
       "2           4.7          3.2           1.3          0.2  setosa   2\n",
       "3           4.6          3.1           1.5          0.2  setosa   3\n",
       "4           5.0          3.6           1.4          0.2  setosa   4"
      ]
     },
     "execution_count": 18,
     "metadata": {},
     "output_type": "execute_result"
    }
   ],
   "source": [
    "import pandas as pd\n",
    "\n",
    "# Load the dataset\n",
    "df = pd.read_csv('data/iris.csv')\n",
    "df['id'] = df.index  \n",
    "df.head(5)"
   ]
  },
  {
   "cell_type": "code",
   "execution_count": 19,
   "id": "b4788719-2ebb-4623-b690-84c3b2abc561",
   "metadata": {},
   "outputs": [
    {
     "name": "stdout",
     "output_type": "stream",
     "text": [
      "a.\n",
      "     sepal_length  sepal_width  petal_length  petal_width species  id\n",
      "5            5.4          3.9           1.7          0.4  setosa   5\n",
      "11           4.8          3.4           1.6          0.2  setosa  11\n",
      "18           5.7          3.8           1.7          0.3  setosa  18\n",
      "20           5.4          3.4           1.7          0.2  setosa  20\n",
      "23           5.1          3.3           1.7          0.5  setosa  23\n",
      "24           4.8          3.4           1.9          0.2  setosa  24\n",
      "25           5.0          3.0           1.6          0.2  setosa  25\n",
      "26           5.0          3.4           1.6          0.4  setosa  26\n",
      "29           4.7          3.2           1.6          0.2  setosa  29\n",
      "30           4.8          3.1           1.6          0.2  setosa  30\n",
      "43           5.0          3.5           1.6          0.6  setosa  43\n",
      "44           5.1          3.8           1.9          0.4  setosa  44\n",
      "46           5.1          3.8           1.6          0.2  setosa  46\n"
     ]
    }
   ],
   "source": [
    "# a. Filter rows\n",
    "a = df[(df['petal_length'] > 1.5) & (df['species'] == 'setosa')]\n",
    "print(\"a.\\n\", a)"
   ]
  },
  {
   "cell_type": "code",
   "execution_count": 20,
   "id": "d6ed0cc9-0662-4b38-946a-87645afa5ed9",
   "metadata": {},
   "outputs": [],
   "source": [
    "# b. Merge with species info\n",
    "info = pd.DataFrame({\n",
    "    'species': ['setosa', 'versicolor', 'virginica'],\n",
    "    'color': ['Blue', 'Red', 'Purple']\n",
    "})"
   ]
  },
  {
   "cell_type": "code",
   "execution_count": 21,
   "id": "96145a84-eb9b-4259-9a4a-e019d8da5671",
   "metadata": {},
   "outputs": [
    {
     "name": "stdout",
     "output_type": "stream",
     "text": [
      "\n",
      "b.\n",
      "    sepal_length  sepal_width  petal_length  petal_width species  id color\n",
      "0           5.1          3.5           1.4          0.2  setosa   0  Blue\n",
      "1           4.9          3.0           1.4          0.2  setosa   1  Blue\n",
      "2           4.7          3.2           1.3          0.2  setosa   2  Blue\n",
      "3           4.6          3.1           1.5          0.2  setosa   3  Blue\n",
      "4           5.0          3.6           1.4          0.2  setosa   4  Blue\n"
     ]
    }
   ],
   "source": [
    "b = pd.merge(df, info, on='species')\n",
    "print(\"\\nb.\\n\", b.head())"
   ]
  },
  {
   "cell_type": "code",
   "execution_count": 22,
   "id": "934258cf-3d99-47e2-a863-ca2dc2709815",
   "metadata": {},
   "outputs": [
    {
     "name": "stdout",
     "output_type": "stream",
     "text": [
      "\n",
      "c.\n",
      "      sepal_length  sepal_width  petal_length  petal_width     species   id\n",
      "60            5.0          2.0           3.5          1.0  versicolor   60\n",
      "62            6.0          2.2           4.0          1.0  versicolor   62\n",
      "119           6.0          2.2           5.0          1.5   virginica  119\n",
      "68            6.2          2.2           4.5          1.5  versicolor   68\n",
      "41            4.5          2.3           1.3          0.3      setosa   41\n"
     ]
    }
   ],
   "source": [
    "# c. Sort by sepal_width, then sepal_length\n",
    "c = df.sort_values(by=['sepal_width', 'sepal_length'])\n",
    "print(\"\\nc.\\n\", c.head())"
   ]
  },
  {
   "cell_type": "code",
   "execution_count": 23,
   "id": "7071e625-07f8-4dce-b0ee-4b24265266ad",
   "metadata": {},
   "outputs": [
    {
     "name": "stdout",
     "output_type": "stream",
     "text": [
      "\n",
      "d.\n",
      "                    0       1       2       3       4\n",
      "sepal_length     5.1     4.9     4.7     4.6     5.0\n",
      "sepal_width      3.5     3.0     3.2     3.1     3.6\n",
      "petal_length     1.4     1.4     1.3     1.5     1.4\n",
      "petal_width      0.2     0.2     0.2     0.2     0.2\n",
      "species       setosa  setosa  setosa  setosa  setosa\n",
      "id                 0       1       2       3       4\n"
     ]
    }
   ],
   "source": [
    "# d. Transpose first 5 rows\n",
    "d = df.head(5).transpose()\n",
    "print(\"\\nd.\\n\", d)"
   ]
  },
  {
   "cell_type": "code",
   "execution_count": 24,
   "id": "a709863f-31e7-4e55-a67d-185a88023922",
   "metadata": {},
   "outputs": [],
   "source": [
    "# e. Melt and pivot\n",
    "melted = pd.melt(df, id_vars=['id', 'species'], var_name='feature', value_name='value')\n",
    "\n",
    "# Pivot to wide format\n",
    "pivoted = melted.pivot(index='id', columns='feature', values='value')"
   ]
  },
  {
   "cell_type": "code",
   "execution_count": 25,
   "id": "c29efea6-4e42-4918-bbc4-eb26ef41efca",
   "metadata": {},
   "outputs": [
    {
     "name": "stdout",
     "output_type": "stream",
     "text": [
      "\n",
      "e.\n",
      "Melted:\n",
      "    id species       feature  value\n",
      "0   0  setosa  sepal_length    5.1\n",
      "1   1  setosa  sepal_length    4.9\n",
      "2   2  setosa  sepal_length    4.7\n",
      "3   3  setosa  sepal_length    4.6\n",
      "4   4  setosa  sepal_length    5.0\n",
      "Pivoted:\n",
      " feature  petal_length  petal_width  sepal_length  sepal_width\n",
      "id                                                           \n",
      "0                 1.4          0.2           5.1          3.5\n",
      "1                 1.4          0.2           4.9          3.0\n",
      "2                 1.3          0.2           4.7          3.2\n",
      "3                 1.5          0.2           4.6          3.1\n",
      "4                 1.4          0.2           5.0          3.6\n"
     ]
    }
   ],
   "source": [
    "print(\"\\ne.\\nMelted:\\n\", melted.head())\n",
    "print(\"Pivoted:\\n\", pivoted.head())"
   ]
  },
  {
   "cell_type": "code",
   "execution_count": null,
   "id": "e14bbfc3-ddb2-4ae4-96e0-8a7c242c824e",
   "metadata": {},
   "outputs": [],
   "source": []
  }
 ],
 "metadata": {
  "kernelspec": {
   "display_name": "Python 3 (ipykernel)",
   "language": "python",
   "name": "python3"
  },
  "language_info": {
   "codemirror_mode": {
    "name": "ipython",
    "version": 3
   },
   "file_extension": ".py",
   "mimetype": "text/x-python",
   "name": "python",
   "nbconvert_exporter": "python",
   "pygments_lexer": "ipython3",
   "version": "3.13.2"
  }
 },
 "nbformat": 4,
 "nbformat_minor": 5
}
