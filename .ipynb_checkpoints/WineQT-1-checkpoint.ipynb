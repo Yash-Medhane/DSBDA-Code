{
 "cells": [
  {
   "cell_type": "code",
   "execution_count": null,
   "id": "22560f03-62b0-4d4d-b7e3-43689ffc2a89",
   "metadata": {},
   "outputs": [],
   "source": [
    "import pandas as pd\n",
    "\n",
    "# Load combined wine dataset\n",
    "df = pd.read_csv(\"WnieQT.csv\")\n",
    "\n",
    "# a. Subset data: quality ≥ 7 and alcohol > 10\n",
    "subset = df[(df['quality'] >= 7) & (df['alcohol'] > 10)]\n",
    "print(\"Subset:\\n\", subset.head())"
   ]
  },
  {
   "cell_type": "code",
   "execution_count": null,
   "id": "e0cf6861-cc97-4729-966b-56d3374b2c0d",
   "metadata": {},
   "outputs": [],
   "source": [
    "# Load red and white wine datasets if they are separate\n",
    "red = pd.read_csv(\"winequality-red.csv\")\n",
    "white = pd.read_csv(\"winequality-white.csv\")\n",
    "\n",
    "# Add a column to indicate wine type\n",
    "red['type'] = 'red'\n",
    "white['type'] = 'white'"
   ]
  },
  {
   "cell_type": "code",
   "execution_count": null,
   "id": "7e7a434b-3ace-4229-b435-82555e27c655",
   "metadata": {},
   "outputs": [],
   "source": [
    "# Merge\n",
    "combined = pd.concat([red, white], axis=0)\n",
    "print(\"\\nCombined Dataset:\\n\", combined.head())"
   ]
  },
  {
   "cell_type": "code",
   "execution_count": null,
   "id": "23952a09-197c-4977-8355-69c56a6be885",
   "metadata": {},
   "outputs": [],
   "source": [
    "sorted_wines = df.sort_values(by=['citric acid', 'residual sugar'], ascending=[False, True])\n",
    "print(\"\\nSorted Wines:\\n\", sorted_wines[['citric acid', 'residual sugar']].head())\n"
   ]
  },
  {
   "cell_type": "code",
   "execution_count": null,
   "id": "07bff2d3-29bc-4d9f-9e47-abc0a34ef98d",
   "metadata": {},
   "outputs": [],
   "source": [
    "summary_stats = df.groupby('quality').mean().transpose()\n",
    "print(\"\\nTransposed Summary Statistics:\\n\", summary_stats)"
   ]
  },
  {
   "cell_type": "code",
   "execution_count": null,
   "id": "c0452b19-3e2b-4412-a30d-24276e5ea09c",
   "metadata": {},
   "outputs": [],
   "source": [
    "pivot = df.pivot_table(values=['alcohol', 'citric acid', 'residual sugar'],\n",
    "                       index='quality', aggfunc='mean')\n",
    "print(\"\\nPivot Table:\\n\", pivot)"
   ]
  },
  {
   "cell_type": "code",
   "execution_count": null,
   "id": "3e5682d2-e54c-4d64-b9d6-f16879adf1db",
   "metadata": {},
   "outputs": [],
   "source": []
  },
  {
   "cell_type": "code",
   "execution_count": null,
   "id": "a6c5e5b7-4efc-4ac0-bd0a-6f8bede3b877",
   "metadata": {},
   "outputs": [],
   "source": []
  }
 ],
 "metadata": {
  "kernelspec": {
   "display_name": "Python 3 (ipykernel)",
   "language": "python",
   "name": "python3"
  },
  "language_info": {
   "codemirror_mode": {
    "name": "ipython",
    "version": 3
   },
   "file_extension": ".py",
   "mimetype": "text/x-python",
   "name": "python",
   "nbconvert_exporter": "python",
   "pygments_lexer": "ipython3",
   "version": "3.13.2"
  }
 },
 "nbformat": 4,
 "nbformat_minor": 5
}
