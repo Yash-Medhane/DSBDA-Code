{
 "cells": [
  {
   "cell_type": "code",
   "execution_count": null,
   "id": "332c19c8-2acf-47da-8170-4e5b9ba03d34",
   "metadata": {},
   "outputs": [],
   "source": [
    "import pandas as pd\n",
    "\n",
    "# Load dataset\n",
    "df = pd.read_csv(\"Salaries.csv\")"
   ]
  },
  {
   "cell_type": "code",
   "execution_count": null,
   "id": "b63f7d0f-223d-4592-9db5-8a3342b7ecdd",
   "metadata": {},
   "outputs": [],
   "source": [
    "# a. Get the rank and salary of all staff that does not belong to discipline A\n",
    "not_discipline_A = df[df['discipline'] != 'A'][['rank', 'salary']]\n",
    "print(\"a. Not Discipline A:\\n\", not_discipline_A)"
   ]
  },
  {
   "cell_type": "code",
   "execution_count": null,
   "id": "7183d1e5-516c-4e7b-9839-80bd1b87753b",
   "metadata": {},
   "outputs": [],
   "source": [
    "# b. Get rank, salary and years of service of all male staff and only female professor\n",
    "male_or_female_prof = df[(df['sex'] == 'Male') | ((df['sex'] == 'Female') & (df['rank'] == 'Prof'))][['rank', 'salary', 'yrs.service']]\n",
    "print(\"\\nb. Male staff and female professors:\\n\", male_or_female_prof)"
   ]
  },
  {
   "cell_type": "code",
   "execution_count": null,
   "id": "91fcda8b-988b-4b4d-9121-b4d312c0d7bf",
   "metadata": {},
   "outputs": [],
   "source": [
    "# c. Get all Female staff who are either professor or earning more than 75000\n",
    "female_prof_or_high_salary = df[(df['sex'] == 'Female') & ((df['rank'] == 'Prof') | (df['salary'] > 75000))]\n",
    "print(\"\\nc. Female professors or earning > 75000:\\n\", female_prof_or_high_salary)"
   ]
  },
  {
   "cell_type": "code",
   "execution_count": null,
   "id": "a2d98e89-6649-42c9-b882-e189d71bb0d1",
   "metadata": {},
   "outputs": [],
   "source": [
    "# d. Get the rank and salary of all staff other than professors and who are serving at least 10 years\n",
    "non_prof_10yrs = df[(df['rank'] != 'Prof') & (df['yrs.service'] >= 10)][['rank', 'salary']]\n",
    "print(\"\\nd. Non-professors with ≥10 years service:\\n\", non_prof_10yrs)"
   ]
  }
 ],
 "metadata": {
  "kernelspec": {
   "display_name": "Python 3 (ipykernel)",
   "language": "python",
   "name": "python3"
  },
  "language_info": {
   "codemirror_mode": {
    "name": "ipython",
    "version": 3
   },
   "file_extension": ".py",
   "mimetype": "text/x-python",
   "name": "python",
   "nbconvert_exporter": "python",
   "pygments_lexer": "ipython3",
   "version": "3.13.2"
  }
 },
 "nbformat": 4,
 "nbformat_minor": 5
}
