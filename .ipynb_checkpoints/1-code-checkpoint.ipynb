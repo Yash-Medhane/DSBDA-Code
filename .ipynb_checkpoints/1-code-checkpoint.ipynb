{
 "cells": [
  {
   "cell_type": "code",
   "execution_count": 1,
   "id": "79553ec0-edb4-4678-8fcb-4c3d831f5a67",
   "metadata": {},
   "outputs": [
    {
     "data": {
      "text/html": [
       "<div>\n",
       "<style scoped>\n",
       "    .dataframe tbody tr th:only-of-type {\n",
       "        vertical-align: middle;\n",
       "    }\n",
       "\n",
       "    .dataframe tbody tr th {\n",
       "        vertical-align: top;\n",
       "    }\n",
       "\n",
       "    .dataframe thead th {\n",
       "        text-align: right;\n",
       "    }\n",
       "</style>\n",
       "<table border=\"1\" class=\"dataframe\">\n",
       "  <thead>\n",
       "    <tr style=\"text-align: right;\">\n",
       "      <th></th>\n",
       "      <th>sepal_length</th>\n",
       "      <th>sepal_width</th>\n",
       "      <th>petal_length</th>\n",
       "      <th>petal_width</th>\n",
       "      <th>species</th>\n",
       "    </tr>\n",
       "  </thead>\n",
       "  <tbody>\n",
       "    <tr>\n",
       "      <th>0</th>\n",
       "      <td>5.1</td>\n",
       "      <td>3.5</td>\n",
       "      <td>1.4</td>\n",
       "      <td>0.2</td>\n",
       "      <td>setosa</td>\n",
       "    </tr>\n",
       "    <tr>\n",
       "      <th>1</th>\n",
       "      <td>4.9</td>\n",
       "      <td>3.0</td>\n",
       "      <td>1.4</td>\n",
       "      <td>0.2</td>\n",
       "      <td>setosa</td>\n",
       "    </tr>\n",
       "    <tr>\n",
       "      <th>2</th>\n",
       "      <td>4.7</td>\n",
       "      <td>3.2</td>\n",
       "      <td>1.3</td>\n",
       "      <td>0.2</td>\n",
       "      <td>setosa</td>\n",
       "    </tr>\n",
       "    <tr>\n",
       "      <th>3</th>\n",
       "      <td>4.6</td>\n",
       "      <td>3.1</td>\n",
       "      <td>1.5</td>\n",
       "      <td>0.2</td>\n",
       "      <td>setosa</td>\n",
       "    </tr>\n",
       "    <tr>\n",
       "      <th>4</th>\n",
       "      <td>5.0</td>\n",
       "      <td>3.6</td>\n",
       "      <td>1.4</td>\n",
       "      <td>0.2</td>\n",
       "      <td>setosa</td>\n",
       "    </tr>\n",
       "  </tbody>\n",
       "</table>\n",
       "</div>"
      ],
      "text/plain": [
       "   sepal_length  sepal_width  petal_length  petal_width species\n",
       "0           5.1          3.5           1.4          0.2  setosa\n",
       "1           4.9          3.0           1.4          0.2  setosa\n",
       "2           4.7          3.2           1.3          0.2  setosa\n",
       "3           4.6          3.1           1.5          0.2  setosa\n",
       "4           5.0          3.6           1.4          0.2  setosa"
      ]
     },
     "execution_count": 1,
     "metadata": {},
     "output_type": "execute_result"
    }
   ],
   "source": [
    "import pandas as pd\n",
    "\n",
    "# Load the dataset\n",
    "df = pd.read_csv('data/iris.csv')\n",
    "df.head(5)"
   ]
  },
  {
   "cell_type": "code",
   "execution_count": 2,
   "id": "b4788719-2ebb-4623-b690-84c3b2abc561",
   "metadata": {},
   "outputs": [
    {
     "name": "stdout",
     "output_type": "stream",
     "text": [
      "a. Subset result:\n",
      "     sepal_length  sepal_width  petal_length  petal_width species\n",
      "5            5.4          3.9           1.7          0.4  setosa\n",
      "11           4.8          3.4           1.6          0.2  setosa\n",
      "18           5.7          3.8           1.7          0.3  setosa\n",
      "20           5.4          3.4           1.7          0.2  setosa\n",
      "23           5.1          3.3           1.7          0.5  setosa\n",
      "24           4.8          3.4           1.9          0.2  setosa\n",
      "25           5.0          3.0           1.6          0.2  setosa\n",
      "26           5.0          3.4           1.6          0.4  setosa\n",
      "29           4.7          3.2           1.6          0.2  setosa\n",
      "30           4.8          3.1           1.6          0.2  setosa\n",
      "43           5.0          3.5           1.6          0.6  setosa\n",
      "44           5.1          3.8           1.9          0.4  setosa\n",
      "46           5.1          3.8           1.6          0.2  setosa\n"
     ]
    }
   ],
   "source": [
    "# a. Subset rows where petal_length > 1.5 and species is \"setosa\"\n",
    "subset = df[(df['petal_length'] > 1.5) & (df['species'] == 'setosa')]\n",
    "print(\"a. Subset result:\\n\", subset)"
   ]
  },
  {
   "cell_type": "code",
   "execution_count": 3,
   "id": "d6ed0cc9-0662-4b38-946a-87645afa5ed9",
   "metadata": {},
   "outputs": [],
   "source": [
    "# b. Merge the Iris dataset with a custom species info table (e.g., color or habitat)\n",
    "species_info = pd.DataFrame({\n",
    "    'species': ['setosa', 'versicolor', 'virginica'],\n",
    "    'color': ['Blue', 'Red', 'Purple'],\n",
    "    'habitat': ['Garden', 'Field', 'Wetland']\n",
    "})"
   ]
  },
  {
   "cell_type": "code",
   "execution_count": 4,
   "id": "96145a84-eb9b-4259-9a4a-e019d8da5671",
   "metadata": {},
   "outputs": [
    {
     "name": "stdout",
     "output_type": "stream",
     "text": [
      "\n",
      "b. Merged Data:\n",
      "    sepal_length  sepal_width  petal_length  petal_width species color habitat\n",
      "0           5.1          3.5           1.4          0.2  setosa  Blue  Garden\n",
      "1           4.9          3.0           1.4          0.2  setosa  Blue  Garden\n",
      "2           4.7          3.2           1.3          0.2  setosa  Blue  Garden\n",
      "3           4.6          3.1           1.5          0.2  setosa  Blue  Garden\n",
      "4           5.0          3.6           1.4          0.2  setosa  Blue  Garden\n"
     ]
    }
   ],
   "source": [
    "merged_df = pd.merge(df, species_info, on='species', how='left')\n",
    "print(\"\\nb. Merged Data:\\n\", merged_df.head())"
   ]
  },
  {
   "cell_type": "code",
   "execution_count": 5,
   "id": "934258cf-3d99-47e2-a863-ca2dc2709815",
   "metadata": {},
   "outputs": [
    {
     "name": "stdout",
     "output_type": "stream",
     "text": [
      "\n",
      "c. Sorted Data:\n",
      "      sepal_length  sepal_width  petal_length  petal_width     species\n",
      "60            5.0          2.0           3.5          1.0  versicolor\n",
      "62            6.0          2.2           4.0          1.0  versicolor\n",
      "119           6.0          2.2           5.0          1.5   virginica\n",
      "68            6.2          2.2           4.5          1.5  versicolor\n",
      "41            4.5          2.3           1.3          0.3      setosa\n"
     ]
    }
   ],
   "source": [
    "# c. Sort flowers by sepal_width and then by sepal_length\n",
    "sorted_df = df.sort_values(by=['sepal_width', 'sepal_length'])\n",
    "print(\"\\nc. Sorted Data:\\n\", sorted_df.head())"
   ]
  },
  {
   "cell_type": "code",
   "execution_count": 6,
   "id": "7071e625-07f8-4dce-b0ee-4b24265266ad",
   "metadata": {},
   "outputs": [
    {
     "name": "stdout",
     "output_type": "stream",
     "text": [
      "\n",
      "d. Transposed first 5 rows:\n",
      "                    0       1       2       3       4\n",
      "sepal_length     5.1     4.9     4.7     4.6     5.0\n",
      "sepal_width      3.5     3.0     3.2     3.1     3.6\n",
      "petal_length     1.4     1.4     1.3     1.5     1.4\n",
      "petal_width      0.2     0.2     0.2     0.2     0.2\n",
      "species       setosa  setosa  setosa  setosa  setosa\n"
     ]
    }
   ],
   "source": [
    "# d. Transpose the dataset’s first 5 rows\n",
    "transposed = df.head(5).transpose()\n",
    "print(\"\\nd. Transposed first 5 rows:\\n\", transposed)"
   ]
  },
  {
   "cell_type": "code",
   "execution_count": 7,
   "id": "a709863f-31e7-4e55-a67d-185a88023922",
   "metadata": {},
   "outputs": [
    {
     "name": "stdout",
     "output_type": "stream",
     "text": [
      "\n",
      "e. Melted format:\n",
      "   species       feature  value\n",
      "0  setosa  sepal_length    5.1\n",
      "1  setosa  sepal_length    4.9\n",
      "2  setosa  sepal_length    4.7\n",
      "3  setosa  sepal_length    4.6\n",
      "4  setosa  sepal_length    5.0\n"
     ]
    }
   ],
   "source": [
    "# e. Reshape using melt() and pivot()\n",
    "melted = pd.melt(df, id_vars=['species'], var_name='feature', value_name='value')\n",
    "print(\"\\ne. Melted format:\\n\", melted.head())"
   ]
  },
  {
   "cell_type": "code",
   "execution_count": 8,
   "id": "3f97d757-bd55-4742-a935-0435e08ec38e",
   "metadata": {},
   "outputs": [
    {
     "name": "stdout",
     "output_type": "stream",
     "text": [
      "\n",
      "Pivoted (wide) format:\n",
      " feature     species  petal_length  petal_width  sepal_length  sepal_width\n",
      "0            setosa           1.4          0.2           5.1          3.5\n",
      "1        versicolor           4.7          1.4           7.0          3.2\n",
      "2         virginica           6.0          2.5           6.3          3.3\n"
     ]
    }
   ],
   "source": [
    "pivoted = melted.pivot_table(index=['species'], columns='feature', values='value', aggfunc='first').reset_index()\n",
    "print(\"\\nPivoted (wide) format:\\n\", pivoted.head())"
   ]
  },
  {
   "cell_type": "code",
   "execution_count": null,
   "id": "c29efea6-4e42-4918-bbc4-eb26ef41efca",
   "metadata": {},
   "outputs": [],
   "source": []
  }
 ],
 "metadata": {
  "kernelspec": {
   "display_name": "Python 3 (ipykernel)",
   "language": "python",
   "name": "python3"
  },
  "language_info": {
   "codemirror_mode": {
    "name": "ipython",
    "version": 3
   },
   "file_extension": ".py",
   "mimetype": "text/x-python",
   "name": "python",
   "nbconvert_exporter": "python",
   "pygments_lexer": "ipython3",
   "version": "3.13.2"
  }
 },
 "nbformat": 4,
 "nbformat_minor": 5
}
