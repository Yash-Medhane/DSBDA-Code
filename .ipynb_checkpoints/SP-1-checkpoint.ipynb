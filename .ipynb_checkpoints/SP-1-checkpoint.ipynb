{
 "cells": [
  {
   "cell_type": "code",
   "execution_count": 8,
   "id": "6c9ad5eb-06b9-4364-ae1f-0e9da33ca919",
   "metadata": {},
   "outputs": [
    {
     "data": {
      "text/html": [
       "<div>\n",
       "<style scoped>\n",
       "    .dataframe tbody tr th:only-of-type {\n",
       "        vertical-align: middle;\n",
       "    }\n",
       "\n",
       "    .dataframe tbody tr th {\n",
       "        vertical-align: top;\n",
       "    }\n",
       "\n",
       "    .dataframe thead th {\n",
       "        text-align: right;\n",
       "    }\n",
       "</style>\n",
       "<table border=\"1\" class=\"dataframe\">\n",
       "  <thead>\n",
       "    <tr style=\"text-align: right;\">\n",
       "      <th></th>\n",
       "      <th>gender</th>\n",
       "      <th>race/ethnicity</th>\n",
       "      <th>parental level of education</th>\n",
       "      <th>lunch</th>\n",
       "      <th>test preparation course</th>\n",
       "      <th>math score</th>\n",
       "      <th>reading score</th>\n",
       "      <th>writing score</th>\n",
       "    </tr>\n",
       "  </thead>\n",
       "  <tbody>\n",
       "    <tr>\n",
       "      <th>0</th>\n",
       "      <td>female</td>\n",
       "      <td>group B</td>\n",
       "      <td>bachelor's degree</td>\n",
       "      <td>standard</td>\n",
       "      <td>none</td>\n",
       "      <td>72</td>\n",
       "      <td>72</td>\n",
       "      <td>74</td>\n",
       "    </tr>\n",
       "    <tr>\n",
       "      <th>1</th>\n",
       "      <td>female</td>\n",
       "      <td>group C</td>\n",
       "      <td>some college</td>\n",
       "      <td>standard</td>\n",
       "      <td>completed</td>\n",
       "      <td>69</td>\n",
       "      <td>90</td>\n",
       "      <td>88</td>\n",
       "    </tr>\n",
       "    <tr>\n",
       "      <th>2</th>\n",
       "      <td>female</td>\n",
       "      <td>group B</td>\n",
       "      <td>master's degree</td>\n",
       "      <td>standard</td>\n",
       "      <td>none</td>\n",
       "      <td>90</td>\n",
       "      <td>95</td>\n",
       "      <td>93</td>\n",
       "    </tr>\n",
       "    <tr>\n",
       "      <th>3</th>\n",
       "      <td>male</td>\n",
       "      <td>group A</td>\n",
       "      <td>associate's degree</td>\n",
       "      <td>free/reduced</td>\n",
       "      <td>none</td>\n",
       "      <td>47</td>\n",
       "      <td>57</td>\n",
       "      <td>44</td>\n",
       "    </tr>\n",
       "    <tr>\n",
       "      <th>4</th>\n",
       "      <td>male</td>\n",
       "      <td>group C</td>\n",
       "      <td>some college</td>\n",
       "      <td>standard</td>\n",
       "      <td>none</td>\n",
       "      <td>76</td>\n",
       "      <td>78</td>\n",
       "      <td>75</td>\n",
       "    </tr>\n",
       "  </tbody>\n",
       "</table>\n",
       "</div>"
      ],
      "text/plain": [
       "   gender race/ethnicity parental level of education         lunch  \\\n",
       "0  female        group B           bachelor's degree      standard   \n",
       "1  female        group C                some college      standard   \n",
       "2  female        group B             master's degree      standard   \n",
       "3    male        group A          associate's degree  free/reduced   \n",
       "4    male        group C                some college      standard   \n",
       "\n",
       "  test preparation course  math score  reading score  writing score  \n",
       "0                    none          72             72             74  \n",
       "1               completed          69             90             88  \n",
       "2                    none          90             95             93  \n",
       "3                    none          47             57             44  \n",
       "4                    none          76             78             75  "
      ]
     },
     "execution_count": 8,
     "metadata": {},
     "output_type": "execute_result"
    }
   ],
   "source": [
    "import pandas as pd\n",
    "\n",
    "df = pd.read_csv('data/StudentsPerformance.csv')\n",
    "df.head(5)"
   ]
  },
  {
   "cell_type": "code",
   "execution_count": 9,
   "id": "0a955643-03fe-4f04-bf12-9b665fa17892",
   "metadata": {},
   "outputs": [
    {
     "name": "stdout",
     "output_type": "stream",
     "text": [
      "a.\n",
      "      gender race/ethnicity parental level of education         lunch  \\\n",
      "6    female        group B                some college      standard   \n",
      "35     male        group E          associate's degree      standard   \n",
      "49     male        group C                 high school      standard   \n",
      "56   female        group E          associate's degree      standard   \n",
      "104    male        group C                some college      standard   \n",
      "..      ...            ...                         ...           ...   \n",
      "934    male        group C          associate's degree      standard   \n",
      "938    male        group D                some college      standard   \n",
      "987    male        group E            some high school      standard   \n",
      "990    male        group E                 high school  free/reduced   \n",
      "995  female        group E             master's degree      standard   \n",
      "\n",
      "    test preparation course  math score  reading score  writing score  \n",
      "6                 completed          88             95             92  \n",
      "35                completed          81             81             79  \n",
      "49                completed          82             84             82  \n",
      "56                completed          82             85             86  \n",
      "104               completed          98             86             90  \n",
      "..                      ...         ...            ...            ...  \n",
      "934               completed          98             87             90  \n",
      "938               completed          85             81             85  \n",
      "987               completed          81             75             76  \n",
      "990               completed          86             81             75  \n",
      "995               completed          88             99             95  \n",
      "\n",
      "[84 rows x 8 columns]\n"
     ]
    }
   ],
   "source": [
    "# a. Students with math score > 80 and completed test prep\n",
    "a = df[(df['math score'] > 80) & (df['test preparation course'] == 'completed')]\n",
    "print(\"a.\\n\", a)"
   ]
  },
  {
   "cell_type": "code",
   "execution_count": 10,
   "id": "9536a34e-cffa-458e-85f3-c68c6d81d3ac",
   "metadata": {},
   "outputs": [
    {
     "name": "stdout",
     "output_type": "stream",
     "text": [
      "\n",
      "b.\n",
      "    gender race/ethnicity parental level of education         lunch  \\\n",
      "0  female        group B           bachelor's degree      standard   \n",
      "1  female        group C                some college      standard   \n",
      "2  female        group B             master's degree      standard   \n",
      "3    male        group A          associate's degree  free/reduced   \n",
      "4    male        group C                some college      standard   \n",
      "\n",
      "  test preparation course  math score  reading score  writing score  \\\n",
      "0                    none          72             72             74   \n",
      "1               completed          69             90             88   \n",
      "2                    none          90             95             93   \n",
      "3                    none          47             57             44   \n",
      "4                    none          76             78             75   \n",
      "\n",
      "  socioeconomic status  \n",
      "0              mid-low  \n",
      "1                  mid  \n",
      "2              mid-low  \n",
      "3                  low  \n",
      "4                  mid  \n"
     ]
    }
   ],
   "source": [
    "# b. Merge with demographic info (subset)\n",
    "demo = pd.DataFrame({\n",
    "    'race/ethnicity': ['group A', 'group B', 'group C', 'group D', 'group E'],\n",
    "    'socioeconomic status': ['low', 'mid-low', 'mid', 'mid-high', 'high']\n",
    "})\n",
    "b = pd.merge(df, demo, on='race/ethnicity', how='left')\n",
    "print(\"\\nb.\\n\", b.head())"
   ]
  },
  {
   "cell_type": "code",
   "execution_count": 11,
   "id": "5d9bddb4-9ce7-41a0-865b-24b6eec73a90",
   "metadata": {},
   "outputs": [
    {
     "name": "stdout",
     "output_type": "stream",
     "text": [
      "\n",
      "c.\n",
      "      gender race/ethnicity parental level of education     lunch  \\\n",
      "106  female        group D             master's degree  standard   \n",
      "114  female        group E           bachelor's degree  standard   \n",
      "165  female        group C           bachelor's degree  standard   \n",
      "179  female        group D            some high school  standard   \n",
      "458  female        group E           bachelor's degree  standard   \n",
      "\n",
      "    test preparation course  math score  reading score  writing score  \n",
      "106                    none          87            100            100  \n",
      "114               completed          99            100            100  \n",
      "165               completed          96            100            100  \n",
      "179               completed          97            100            100  \n",
      "458                    none         100            100            100  \n"
     ]
    }
   ],
   "source": [
    "# c. Sort by reading and writing score (descending)\n",
    "c = df.sort_values(by=['reading score', 'writing score'], ascending=False)\n",
    "print(\"\\nc.\\n\", c.head())"
   ]
  },
  {
   "cell_type": "code",
   "execution_count": 12,
   "id": "746bc5fd-d9de-4592-bbe8-8f380a8eed8e",
   "metadata": {},
   "outputs": [
    {
     "name": "stdout",
     "output_type": "stream",
     "text": [
      "\n",
      "d.\n",
      " gender            female       male\n",
      "math score     63.633205  68.728216\n",
      "reading score  72.608108  65.473029\n",
      "writing score  72.467181  63.311203\n"
     ]
    }
   ],
   "source": [
    "# d. Transpose average scores by gender\n",
    "d = df.groupby('gender')[['math score', 'reading score', 'writing score']].mean().transpose()\n",
    "print(\"\\nd.\\n\", d)"
   ]
  },
  {
   "cell_type": "code",
   "execution_count": 13,
   "id": "a74769cf-f23e-4cdf-a600-a9bf1d0cc29e",
   "metadata": {},
   "outputs": [
    {
     "name": "stdout",
     "output_type": "stream",
     "text": [
      "\n",
      "e.\n",
      "                         math score            reading score             \\\n",
      "test preparation course  completed       none     completed       none   \n",
      "lunch                                                                    \n",
      "free/reduced             63.045802  56.508929     69.870229  61.602679   \n",
      "standard                 73.533040  68.133971     76.215859  69.177033   \n",
      "\n",
      "                        writing score             \n",
      "test preparation course     completed       none  \n",
      "lunch                                             \n",
      "free/reduced                70.351145  58.736607  \n",
      "standard                    76.766520  67.595694  \n"
     ]
    }
   ],
   "source": [
    "# e. Pivot table: average scores by lunch and test prep\n",
    "e = df.pivot_table(\n",
    "    index='lunch',\n",
    "    columns='test preparation course',\n",
    "    values=['math score', 'reading score', 'writing score'],\n",
    "    aggfunc='mean'\n",
    ")\n",
    "print(\"\\ne.\\n\", e)"
   ]
  },
  {
   "cell_type": "code",
   "execution_count": null,
   "id": "ad47f7d1-6096-4c6c-b046-7fd15e8cdd8f",
   "metadata": {},
   "outputs": [],
   "source": []
  }
 ],
 "metadata": {
  "kernelspec": {
   "display_name": "Python 3 (ipykernel)",
   "language": "python",
   "name": "python3"
  },
  "language_info": {
   "codemirror_mode": {
    "name": "ipython",
    "version": 3
   },
   "file_extension": ".py",
   "mimetype": "text/x-python",
   "name": "python",
   "nbconvert_exporter": "python",
   "pygments_lexer": "ipython3",
   "version": "3.13.2"
  }
 },
 "nbformat": 4,
 "nbformat_minor": 5
}
